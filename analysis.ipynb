{
 "cells": [
  {
   "cell_type": "markdown",
   "metadata": {},
   "source": [
    "# Brief overview\n",
    "\n",
    "[Open Glider Network](https://www.glidernet.org/) (OGN) is an open source project that powers ground stations capable of receiving aircraft locations and relaying them over the internet. Data is freely available for any one to stream by connecting to the appropriate APRS servers.\n",
    "\n",
    "\n",
    "## Data and methods\n",
    "\n",
    "The data used in this analysis was collected between 2017-08-09\tand 2018-05-19 using the [ogn-lib](https://github.com/akolar/ogn-lib) package. On 2018-05-20 OGN introduced [new data usage rules](https://www.glidernet.org/ogn-data-usage/), which effectively prohibit performing any kind of data manipulation after 24 hours have passed since its collection, therefore any data collected after this date is not included in this document. Also keep in mind that some days are missing due to technical difficulties on the clients side.\n",
    "\n",
    "Size of the exported database is 80 GB (CSV without compression). For the purposes of this analysis the data was uploaded and stored on an Amazon Redshift cluster. Returned aggregates were further processed using pandas and visualized with either matplotlib or seaborn. \n",
    "\n",
    "A record received from OGN (usually -- not all receivers provide all the fields) contains the following information:\n",
    "\n",
    "- device ID\n",
    "- receiver ID\n",
    "- timestamp\n",
    "- latitude and longitude\n",
    "- ground speed\n",
    "- heading\n",
    "- altitude\n",
    "- vertical speed\n",
    "\n",
    "An example of such record is\n",
    "\n",
    "```\n",
    "FLRDDFB2A>APRS,qAS,LFPF:/181325h4849.83N\\00204.65E^292/072/A=001115 !W66! id22DDFB2A +040fpm +0.0rot 10.2dB 0e -6.7kHz gps2x3\n",
    "```\n",
    "\n",
    "In the remainder of this notebook we will dive into available information a bit further."
   ]
  },
  {
   "cell_type": "markdown",
   "metadata": {},
   "source": [
    "# Imports and helper functions"
   ]
  },
  {
   "cell_type": "code",
   "execution_count": 1,
   "metadata": {},
   "outputs": [],
   "source": [
    "%matplotlib inline"
   ]
  },
  {
   "cell_type": "code",
   "execution_count": 2,
   "metadata": {},
   "outputs": [],
   "source": [
    "import calendar\n",
    "import colorsys\n",
    "import enum\n",
    "import hashlib\n",
    "import json\n",
    "import logging\n",
    "import os\n",
    "import pickle\n",
    "import time\n",
    "from datetime import date\n",
    "\n",
    "import gmaps\n",
    "import matplotlib as mpl\n",
    "import matplotlib.pyplot as plt\n",
    "import numpy as np\n",
    "import pandas as pd\n",
    "import seaborn as sns\n",
    "import sqlalchemy\n",
    "\n",
    "logging.basicConfig(level=logging.INFO)\n",
    "logger = logging.getLogger(__name__)\n",
    "\n",
    "sns.set_style('whitegrid')\n",
    "\n",
    "# Load GMaps access key\n",
    "with open('./gmaps_key.txt', 'r') as f:\n",
    "    gmaps.configure(f.read().strip())\n",
    "\n",
    "# Load database url\n",
    "with open('./db_url.txt', 'r') as f:\n",
    "    db_url = f.read().strip()\n",
    "engine = sqlalchemy.create_engine(db_url)"
   ]
  },
  {
   "cell_type": "code",
   "execution_count": 3,
   "metadata": {},
   "outputs": [],
   "source": [
    "# Weekday id -> Weekday name\n",
    "WEEKDAYS = dict(enumerate(calendar.day_name))\n",
    "\n",
    "# Glider type name <--> Glider type id\n",
    "TYPE_TO_ID = dict(unknown=0, glider=1, tow_plane=2, helicopter_rotorcraft=3, parachute=4,\n",
    "                  drop_plane=5, hang_glider=6, paraglider=7, powered_aircraft=8,\n",
    "                  jet_aircraft=9, ufo=10, baloon=11, airship=12, uav=13, static_object=15)\n",
    "ID_TO_TYPE = {v: k for k, v in TYPE_TO_ID.items()}"
   ]
  },
  {
   "cell_type": "code",
   "execution_count": 4,
   "metadata": {},
   "outputs": [],
   "source": [
    "def ttime(fn):\n",
    "    \"\"\"Times the execution of the wrapped function and logs the execution time.\"\"\"\n",
    "    \n",
    "    def wrapper(*args, **kwargs):\n",
    "        start = time.time()\n",
    "        \n",
    "        ret = fn(*args, **kwargs)\n",
    "        \n",
    "        elapsed = time.time() - start\n",
    "        logger.info('Execution of {} took {:.03f} s'.format(fn.__name__, elapsed))\n",
    "        \n",
    "        return ret\n",
    "    \n",
    "    return wrapper"
   ]
  },
  {
   "cell_type": "code",
   "execution_count": 5,
   "metadata": {},
   "outputs": [],
   "source": [
    "def get_from_cache(name):\n",
    "    \"\"\"Retrieves data from cache or raises FileNotFoundError if cache file is not found.\n",
    "    \n",
    "    :param str name: cache file name\n",
    "    :return: cached content\n",
    "    \"\"\"\n",
    "\n",
    "    with open(os.path.join('./cache', name), 'rb') as f:\n",
    "        return pickle.load(f)\n",
    "\n",
    "\n",
    "def save_to_cache(name, data):\n",
    "    \"\"\"Stores the data to a cache file overwriting any previous content.\n",
    "    \n",
    "    :param str name: cache file name\n",
    "    :param data: data of arbitrary type to be cached\n",
    "    \"\"\"\n",
    "    \n",
    "    with open(os.path.join('./cache', name), 'wb') as f:\n",
    "        pickle.dump(data, f)\n",
    "\n",
    "@ttime\n",
    "def execute_query(query, params={}, with_={}):\n",
    "    \"\"\"\n",
    "    Returns a locally cached result of the query or fetches the result from Redshift.\n",
    "    Assumes that the data on the remote server is static (i.e. does not change between queries).\n",
    "    \n",
    "    :params str query: SQL query\n",
    "    :param dict params: query parameters to be passed along to sqlalchemy\n",
    "    :param dict with_: a dict of aditional WITH statements to be executed before the main query\n",
    "    \"\"\"\n",
    "    \n",
    "    name = hashlib.sha1((query + json.dumps(params) + json.dumps(with_)).encode()).hexdigest()\n",
    "    name += '.pickle'\n",
    "    \n",
    "    try:\n",
    "        cached_data = get_from_cache(name)\n",
    "        logger.info('Loaded from cache')\n",
    "        return cached_data\n",
    "    except FileNotFoundError:\n",
    "        logger.info('Cache file not found. Fetching results from redshift')\n",
    "\n",
    "    if with_:\n",
    "        with_statements = ['{} AS ({})'.format(k, v) for k, v in with_.items()]\n",
    "        full_query = 'WITH {}\\n{}'.format(','.join(with_statements), query)\n",
    "    else:\n",
    "        full_query = query\n",
    "\n",
    "    data = pd.read_sql_query(full_query, engine, params=params)\n",
    "    save_to_cache(name, data)\n",
    "    return data"
   ]
  },
  {
   "cell_type": "markdown",
   "metadata": {},
   "source": [
    "# Dataset\n",
    "\n",
    "The following queries show the basic attributes of the analysed data."
   ]
  },
  {
   "cell_type": "code",
   "execution_count": 6,
   "metadata": {},
   "outputs": [
    {
     "name": "stderr",
     "output_type": "stream",
     "text": [
      "INFO:__main__:Loaded from cache\n",
      "INFO:__main__:Execution of execute_query took 0.002 s\n",
      "INFO:__main__:Loaded from cache\n",
      "INFO:__main__:Execution of execute_query took 0.002 s\n",
      "INFO:__main__:Loaded from cache\n",
      "INFO:__main__:Execution of execute_query took 0.003 s\n"
     ]
    }
   ],
   "source": [
    "n_records = execute_query('''\n",
    "SELECT\n",
    "    COUNT(*) as total, \n",
    "    (SELECT COUNT(*) as europe FROM record\n",
    "     WHERE latitude BETWEEN 36.0 AND 70.0 AND longitude BETWEEN -14.0 AND 42.0) as europe\n",
    "FROM record;''')\n",
    "n_records['row'] = n_records.total - n_records.europe\n",
    "\n",
    "n_flarms = execute_query('''SELECT COUNT(DISTINCT flarm_id) as n_flarms FROM flarm;''')\n",
    "n_receivers = execute_query('''SELECT COUNT(DISTINCT name) as n_flarms FROM receiver;''')"
   ]
  },
  {
   "cell_type": "code",
   "execution_count": 7,
   "metadata": {},
   "outputs": [
    {
     "data": {
      "text/html": [
       "<div>\n",
       "<style scoped>\n",
       "    .dataframe tbody tr th:only-of-type {\n",
       "        vertical-align: middle;\n",
       "    }\n",
       "\n",
       "    .dataframe tbody tr th {\n",
       "        vertical-align: top;\n",
       "    }\n",
       "\n",
       "    .dataframe thead th {\n",
       "        text-align: right;\n",
       "    }\n",
       "</style>\n",
       "<table border=\"1\" class=\"dataframe\">\n",
       "  <thead>\n",
       "    <tr style=\"text-align: right;\">\n",
       "      <th></th>\n",
       "      <th>total</th>\n",
       "      <th>europe</th>\n",
       "      <th>row</th>\n",
       "    </tr>\n",
       "  </thead>\n",
       "  <tbody>\n",
       "    <tr>\n",
       "      <th>0</th>\n",
       "      <td>870001165</td>\n",
       "      <td>822350236</td>\n",
       "      <td>47650929</td>\n",
       "    </tr>\n",
       "  </tbody>\n",
       "</table>\n",
       "</div>"
      ],
      "text/plain": [
       "       total     europe       row\n",
       "0  870001165  822350236  47650929"
      ]
     },
     "execution_count": 7,
     "metadata": {},
     "output_type": "execute_result"
    }
   ],
   "source": [
    "n_records"
   ]
  },
  {
   "cell_type": "code",
   "execution_count": 8,
   "metadata": {},
   "outputs": [
    {
     "data": {
      "text/html": [
       "<div>\n",
       "<style scoped>\n",
       "    .dataframe tbody tr th:only-of-type {\n",
       "        vertical-align: middle;\n",
       "    }\n",
       "\n",
       "    .dataframe tbody tr th {\n",
       "        vertical-align: top;\n",
       "    }\n",
       "\n",
       "    .dataframe thead th {\n",
       "        text-align: right;\n",
       "    }\n",
       "</style>\n",
       "<table border=\"1\" class=\"dataframe\">\n",
       "  <thead>\n",
       "    <tr style=\"text-align: right;\">\n",
       "      <th></th>\n",
       "      <th>n_flarms</th>\n",
       "    </tr>\n",
       "  </thead>\n",
       "  <tbody>\n",
       "    <tr>\n",
       "      <th>0</th>\n",
       "      <td>54116</td>\n",
       "    </tr>\n",
       "  </tbody>\n",
       "</table>\n",
       "</div>"
      ],
      "text/plain": [
       "   n_flarms\n",
       "0     54116"
      ]
     },
     "execution_count": 8,
     "metadata": {},
     "output_type": "execute_result"
    }
   ],
   "source": [
    "n_flarms"
   ]
  },
  {
   "cell_type": "code",
   "execution_count": 9,
   "metadata": {},
   "outputs": [
    {
     "data": {
      "text/html": [
       "<div>\n",
       "<style scoped>\n",
       "    .dataframe tbody tr th:only-of-type {\n",
       "        vertical-align: middle;\n",
       "    }\n",
       "\n",
       "    .dataframe tbody tr th {\n",
       "        vertical-align: top;\n",
       "    }\n",
       "\n",
       "    .dataframe thead th {\n",
       "        text-align: right;\n",
       "    }\n",
       "</style>\n",
       "<table border=\"1\" class=\"dataframe\">\n",
       "  <thead>\n",
       "    <tr style=\"text-align: right;\">\n",
       "      <th></th>\n",
       "      <th>n_flarms</th>\n",
       "    </tr>\n",
       "  </thead>\n",
       "  <tbody>\n",
       "    <tr>\n",
       "      <th>0</th>\n",
       "      <td>1951</td>\n",
       "    </tr>\n",
       "  </tbody>\n",
       "</table>\n",
       "</div>"
      ],
      "text/plain": [
       "   n_flarms\n",
       "0      1951"
      ]
     },
     "execution_count": 9,
     "metadata": {},
     "output_type": "execute_result"
    }
   ],
   "source": [
    "n_receivers"
   ]
  },
  {
   "cell_type": "markdown",
   "metadata": {},
   "source": [
    "There is a total of 870,001,165 records in our database. Those were sent out from 54,116 different (FLARM) devices and received by 1951 unique receivers."
   ]
  },
  {
   "cell_type": "markdown",
   "metadata": {},
   "source": [
    "# Records by aircraft types"
   ]
  },
  {
   "cell_type": "code",
   "execution_count": 10,
   "metadata": {},
   "outputs": [
    {
     "name": "stderr",
     "output_type": "stream",
     "text": [
      "INFO:__main__:Loaded from cache\n",
      "INFO:__main__:Execution of execute_query took 0.002 s\n"
     ]
    },
    {
     "data": {
      "text/plain": [
       "<matplotlib.axes._subplots.AxesSubplot at 0x7fcd1d0e5d30>"
      ]
     },
     "execution_count": 10,
     "metadata": {},
     "output_type": "execute_result"
    },
    {
     "data": {
      "image/png": "[encoded data removed]",
      "text/plain": [
       "<Figure size 432x432 with 1 Axes>"
      ]
     },
     "metadata": {},
     "output_type": "display_data"
    }
   ],
   "source": [
    "act_count = execute_query('''\n",
    "SELECT\n",
    "    aircraft_type as type,\n",
    "    COUNT(*) as total\n",
    "FROM record\n",
    "GROUP BY type;''')\n",
    "\n",
    "act_count.type.replace(ID_TO_TYPE, inplace=True)\n",
    "act_count.set_index(['type'], inplace=True)\n",
    "act_count.sort_values(by='total', inplace=True, ascending=False)\n",
    "\n",
    "small_values = act_count.total / act_count.total.sum() < 0.015\n",
    "sum_other = act_count[small_values].total.sum()\n",
    "act_count.drop(index=act_count.index[small_values], inplace=True)\n",
    "act_count.loc['other', 'total'] = sum_other\n",
    "\n",
    "act_count.total.plot.pie(legend=None, figsize=(6, 6), autopct='%.1f %%')"
   ]
  },
  {
   "cell_type": "code",
   "execution_count": 11,
   "metadata": {},
   "outputs": [
    {
     "data": {
      "text/html": [
       "<div>\n",
       "<style scoped>\n",
       "    .dataframe tbody tr th:only-of-type {\n",
       "        vertical-align: middle;\n",
       "    }\n",
       "\n",
       "    .dataframe tbody tr th {\n",
       "        vertical-align: top;\n",
       "    }\n",
       "\n",
       "    .dataframe thead th {\n",
       "        text-align: right;\n",
       "    }\n",
       "</style>\n",
       "<table border=\"1\" class=\"dataframe\">\n",
       "  <thead>\n",
       "    <tr style=\"text-align: right;\">\n",
       "      <th></th>\n",
       "      <th>total</th>\n",
       "    </tr>\n",
       "    <tr>\n",
       "      <th>type</th>\n",
       "      <th></th>\n",
       "    </tr>\n",
       "  </thead>\n",
       "  <tbody>\n",
       "    <tr>\n",
       "      <th>glider</th>\n",
       "      <td>642622011.0</td>\n",
       "    </tr>\n",
       "    <tr>\n",
       "      <th>powered_aircraft</th>\n",
       "      <td>116312965.0</td>\n",
       "    </tr>\n",
       "    <tr>\n",
       "      <th>tow_plane</th>\n",
       "      <td>50630643.0</td>\n",
       "    </tr>\n",
       "    <tr>\n",
       "      <th>helicopter_rotorcraft</th>\n",
       "      <td>16473601.0</td>\n",
       "    </tr>\n",
       "    <tr>\n",
       "      <th>other</th>\n",
       "      <td>43961945.0</td>\n",
       "    </tr>\n",
       "  </tbody>\n",
       "</table>\n",
       "</div>"
      ],
      "text/plain": [
       "                             total\n",
       "type                              \n",
       "glider                 642622011.0\n",
       "powered_aircraft       116312965.0\n",
       "tow_plane               50630643.0\n",
       "helicopter_rotorcraft   16473601.0\n",
       "other                   43961945.0"
      ]
     },
     "execution_count": 11,
     "metadata": {},
     "output_type": "execute_result"
    }
   ],
   "source": [
    "act_count"
   ]
  },
  {
   "cell_type": "markdown",
   "metadata": {},
   "source": [
    "A majority (73.9 %) of those records were produced by devices identifying themselves as gliders. Other aircraft types worth mentioning are powered aircrafts (13.4 %, e.g. single motor aircrafts), tow planes (5.8 %) and helicopters/rotorcrafts (1.9 %)."
   ]
  },
  {
   "cell_type": "markdown",
   "metadata": {},
   "source": [
    "# Records by location"
   ]
  },
  {
   "cell_type": "code",
   "execution_count": 12,
   "metadata": {},
   "outputs": [
    {
     "data": {
      "text/plain": [
       "([<matplotlib.patches.Wedge at 0x7fcd1afca9b0>,\n",
       "  <matplotlib.patches.Wedge at 0x7fcd1afd30f0>],\n",
       " [Text(-1.08376,0.188343,'Europe'),\n",
       "  Text(1.08376,-0.188343,'Rest of the world')],\n",
       " [Text(-0.59114,0.102732,'94.5 %'), Text(0.59114,-0.102732,'5.5 %')])"
      ]
     },
     "execution_count": 12,
     "metadata": {},
     "output_type": "execute_result"
    },
    {
     "data": {
      "image/png": "[encoded data removed]",
      "text/plain": [
       "<Figure size 360x360 with 1 Axes>"
      ]
     },
     "metadata": {},
     "output_type": "display_data"
    }
   ],
   "source": [
    "plt.figure(figsize=(5,5))\n",
    "plt.pie([n_records.europe[0], n_records.row[0]], labels=['Europe', 'Rest of the world'], autopct='%.01f %%', )"
   ]
  },
  {
   "cell_type": "markdown",
   "metadata": {},
   "source": [
    "Almost all (94.5 %) records are sent out by devices located in Europe."
   ]
  },
  {
   "cell_type": "markdown",
   "metadata": {},
   "source": [
    "# Records per year"
   ]
  },
  {
   "cell_type": "code",
   "execution_count": 13,
   "metadata": {},
   "outputs": [
    {
     "name": "stderr",
     "output_type": "stream",
     "text": [
      "INFO:__main__:Loaded from cache\n",
      "INFO:__main__:Execution of execute_query took 0.002 s\n"
     ]
    }
   ],
   "source": [
    "records_by_year = execute_query('''\n",
    "SELECT extract(year from timestamp) as year, COUNT(*) as total\n",
    "FROM record\n",
    "GROUP BY year;''')"
   ]
  },
  {
   "cell_type": "code",
   "execution_count": 14,
   "metadata": {},
   "outputs": [
    {
     "data": {
      "text/plain": [
       "<matplotlib.axes._subplots.AxesSubplot at 0x7fcd1afe8ef0>"
      ]
     },
     "execution_count": 14,
     "metadata": {},
     "output_type": "execute_result"
    },
    {
     "data": {
      "image/png": "[encoded data removed]",
      "text/plain": [
       "<Figure size 360x360 with 1 Axes>"
      ]
     },
     "metadata": {},
     "output_type": "display_data"
    }
   ],
   "source": [
    "records_by_year.plot.pie(x='year', y='total', labels=records_by_year.year, legend=None, figsize=(5, 5),\n",
    "                         autopct=lambda x: '{:.01f}M'.format(x * records_by_year.total.sum() / 1e8))"
   ]
  },
  {
   "cell_type": "markdown",
   "metadata": {},
   "source": [
    "# Daily distribution"
   ]
  },
  {
   "cell_type": "code",
   "execution_count": 15,
   "metadata": {},
   "outputs": [
    {
     "name": "stderr",
     "output_type": "stream",
     "text": [
      "INFO:__main__:Loaded from cache\n",
      "INFO:__main__:Execution of execute_query took 0.002 s\n"
     ]
    }
   ],
   "source": [
    "rec_per_day = execute_query('''\n",
    "SELECT date_trunc('day', timestamp) as date, COUNT(*) as total, COUNT(DISTINCT flarm) as n_devices\n",
    "FROM record\n",
    "GROUP BY date;''')\n",
    "rec_per_day.date = pd.to_datetime(rec_per_day.date)\n",
    "rec_per_day.sort_values(by='date', inplace=True)\n",
    "rec_per_day['date_only'] = rec_per_day.date.dt.date\n",
    "rec_per_day['year'] = rec_per_day.date.dt.year\n",
    "rec_per_day['week'] = rec_per_day.date.dt.week"
   ]
  },
  {
   "cell_type": "code",
   "execution_count": 16,
   "metadata": {},
   "outputs": [
    {
     "data": {
      "text/plain": [
       "<matplotlib.axes._subplots.AxesSubplot at 0x7fcd1afaba90>"
      ]
     },
     "execution_count": 16,
     "metadata": {},
     "output_type": "execute_result"
    },
    {
     "data": {
      "image/png": "[encoded data removed]",
      "text/plain": [
       "<Figure size 432x288 with 1 Axes>"
      ]
     },
     "metadata": {},
     "output_type": "display_data"
    }
   ],
   "source": [
    "rec_per_day.plot.line(x='date', y='total', )"
   ]
  },
  {
   "cell_type": "markdown",
   "metadata": {},
   "source": [
    "The plot above shows the number of records captured each day."
   ]
  },
  {
   "cell_type": "code",
   "execution_count": 17,
   "metadata": {},
   "outputs": [
    {
     "data": {
      "text/plain": [
       "<matplotlib.axes._subplots.AxesSubplot at 0x7fcd1aed4da0>"
      ]
     },
     "execution_count": 17,
     "metadata": {},
     "output_type": "execute_result"
    },
    {
     "data": {
      "image/png": "[encoded data removed]",
      "text/plain": [
       "<Figure size 432x288 with 1 Axes>"
      ]
     },
     "metadata": {},
     "output_type": "display_data"
    }
   ],
   "source": [
    "rec_per_day.plot.hist(y='total', bins=20, legend=None)"
   ]
  },
  {
   "cell_type": "markdown",
   "metadata": {},
   "source": [
    "As observable from the plot above, most days are pretty mediocre: on most days the number of received records was below 5 million. Days with more than 10 million records are rare (19 out of 253 days)."
   ]
  },
  {
   "cell_type": "markdown",
   "metadata": {},
   "source": [
    "# Best days"
   ]
  },
  {
   "cell_type": "code",
   "execution_count": 18,
   "metadata": {},
   "outputs": [
    {
     "data": {
      "text/plain": [
       "Text(0.5,0,'# of distinct devices')"
      ]
     },
     "execution_count": 18,
     "metadata": {},
     "output_type": "execute_result"
    },
    {
     "data": {
      "image/png": "[encoded data removed]",
      "text/plain": [
       "<Figure size 1152x576 with 2 Axes>"
      ]
     },
     "metadata": {},
     "output_type": "display_data"
    }
   ],
   "source": [
    "best_days = rec_per_day.sort_values(by='total', ascending=False).head(20).sort_values('total')\n",
    "best_days['date_only'] = best_days.date.dt.date\n",
    "best_days['weekday'] = best_days.date.dt.weekday\n",
    "\n",
    "most_devices = rec_per_day.sort_values(by='n_devices', ascending=False).head(20).sort_values('n_devices')\n",
    "most_devices['date_only'] = most_devices.date.dt.date\n",
    "most_devices['weekday'] = most_devices.date.dt.weekday\n",
    "\n",
    "f, axes = plt.subplots(1, 2, figsize=(16, 8))\n",
    "best_days.plot.barh(x='date_only', y='total', legend=None, ax=axes[0])\n",
    "axes[0].set_xlabel('# of records')\n",
    "most_devices.plot.barh(x='date_only', y='n_devices', legend=None, ax=axes[1])\n",
    "axes[1].set_xlabel('# of distinct devices')"
   ]
  },
  {
   "cell_type": "markdown",
   "metadata": {},
   "source": [
    "The plot above shows 20 best days in terms of number of received records (left) and number of unique devices (right)."
   ]
  },
  {
   "cell_type": "code",
   "execution_count": 19,
   "metadata": {
    "scrolled": true
   },
   "outputs": [],
   "source": [
    "best_weekday = best_days.groupby(by=['weekday'])['total'].count()"
   ]
  },
  {
   "cell_type": "code",
   "execution_count": 20,
   "metadata": {},
   "outputs": [
    {
     "data": {
      "text/plain": [
       "([0, 1, 2, 3, 4, 5, 6], <a list of 7 Text xticklabel objects>)"
      ]
     },
     "execution_count": 20,
     "metadata": {},
     "output_type": "execute_result"
    },
    {
     "data": {
      "image/png": "[encoded data removed]",
      "text/plain": [
       "<Figure size 432x288 with 1 Axes>"
      ]
     },
     "metadata": {},
     "output_type": "display_data"
    }
   ],
   "source": [
    "plt.bar(WEEKDAYS.values(), best_weekday.values)\n",
    "plt.xticks(rotation=45)"
   ]
  },
  {
   "cell_type": "markdown",
   "metadata": {},
   "source": [
    "Obviously people mostly visit airports on weekends."
   ]
  },
  {
   "cell_type": "code",
   "execution_count": 21,
   "metadata": {},
   "outputs": [
    {
     "data": {
      "text/html": [
       "<div>\n",
       "<style scoped>\n",
       "    .dataframe tbody tr th:only-of-type {\n",
       "        vertical-align: middle;\n",
       "    }\n",
       "\n",
       "    .dataframe tbody tr th {\n",
       "        vertical-align: top;\n",
       "    }\n",
       "\n",
       "    .dataframe thead th {\n",
       "        text-align: right;\n",
       "    }\n",
       "</style>\n",
       "<table border=\"1\" class=\"dataframe\">\n",
       "  <thead>\n",
       "    <tr style=\"text-align: right;\">\n",
       "      <th></th>\n",
       "      <th>date</th>\n",
       "      <th>total</th>\n",
       "      <th>n_devices</th>\n",
       "      <th>date_only</th>\n",
       "      <th>year</th>\n",
       "      <th>week</th>\n",
       "      <th>weekday</th>\n",
       "    </tr>\n",
       "  </thead>\n",
       "  <tbody>\n",
       "    <tr>\n",
       "      <th>126</th>\n",
       "      <td>2018-05-08</td>\n",
       "      <td>10089913</td>\n",
       "      <td>2980</td>\n",
       "      <td>2018-05-08</td>\n",
       "      <td>2018</td>\n",
       "      <td>19</td>\n",
       "      <td>1</td>\n",
       "    </tr>\n",
       "    <tr>\n",
       "      <th>127</th>\n",
       "      <td>2018-05-10</td>\n",
       "      <td>10299698</td>\n",
       "      <td>3447</td>\n",
       "      <td>2018-05-10</td>\n",
       "      <td>2018</td>\n",
       "      <td>19</td>\n",
       "      <td>3</td>\n",
       "    </tr>\n",
       "    <tr>\n",
       "      <th>246</th>\n",
       "      <td>2018-05-03</td>\n",
       "      <td>10788874</td>\n",
       "      <td>2647</td>\n",
       "      <td>2018-05-03</td>\n",
       "      <td>2018</td>\n",
       "      <td>18</td>\n",
       "      <td>3</td>\n",
       "    </tr>\n",
       "    <tr>\n",
       "      <th>137</th>\n",
       "      <td>2017-08-15</td>\n",
       "      <td>11273238</td>\n",
       "      <td>3663</td>\n",
       "      <td>2017-08-15</td>\n",
       "      <td>2017</td>\n",
       "      <td>33</td>\n",
       "      <td>1</td>\n",
       "    </tr>\n",
       "    <tr>\n",
       "      <th>248</th>\n",
       "      <td>2018-05-09</td>\n",
       "      <td>11997070</td>\n",
       "      <td>5973</td>\n",
       "      <td>2018-05-09</td>\n",
       "      <td>2018</td>\n",
       "      <td>19</td>\n",
       "      <td>2</td>\n",
       "    </tr>\n",
       "    <tr>\n",
       "      <th>1</th>\n",
       "      <td>2017-08-14</td>\n",
       "      <td>12406007</td>\n",
       "      <td>4413</td>\n",
       "      <td>2017-08-14</td>\n",
       "      <td>2017</td>\n",
       "      <td>33</td>\n",
       "      <td>0</td>\n",
       "    </tr>\n",
       "    <tr>\n",
       "      <th>245</th>\n",
       "      <td>2018-05-01</td>\n",
       "      <td>12984316</td>\n",
       "      <td>4010</td>\n",
       "      <td>2018-05-01</td>\n",
       "      <td>2018</td>\n",
       "      <td>18</td>\n",
       "      <td>1</td>\n",
       "    </tr>\n",
       "    <tr>\n",
       "      <th>249</th>\n",
       "      <td>2018-05-11</td>\n",
       "      <td>15555345</td>\n",
       "      <td>5998</td>\n",
       "      <td>2018-05-11</td>\n",
       "      <td>2018</td>\n",
       "      <td>19</td>\n",
       "      <td>4</td>\n",
       "    </tr>\n",
       "  </tbody>\n",
       "</table>\n",
       "</div>"
      ],
      "text/plain": [
       "          date     total  n_devices   date_only  year  week  weekday\n",
       "126 2018-05-08  10089913       2980  2018-05-08  2018    19        1\n",
       "127 2018-05-10  10299698       3447  2018-05-10  2018    19        3\n",
       "246 2018-05-03  10788874       2647  2018-05-03  2018    18        3\n",
       "137 2017-08-15  11273238       3663  2017-08-15  2017    33        1\n",
       "248 2018-05-09  11997070       5973  2018-05-09  2018    19        2\n",
       "1   2017-08-14  12406007       4413  2017-08-14  2017    33        0\n",
       "245 2018-05-01  12984316       4010  2018-05-01  2018    18        1\n",
       "249 2018-05-11  15555345       5998  2018-05-11  2018    19        4"
      ]
     },
     "execution_count": 21,
     "metadata": {},
     "output_type": "execute_result"
    }
   ],
   "source": [
    "best_days[~best_days.weekday.isin([5, 6])]"
   ]
  },
  {
   "cell_type": "markdown",
   "metadata": {},
   "source": [
    "Some of the popular weekdays also happended to be on or around national holiday (e.g. 1st and 3rd May, 14th and 15th Aug)."
   ]
  },
  {
   "cell_type": "markdown",
   "metadata": {},
   "source": [
    "# Relative hourly distribution"
   ]
  },
  {
   "cell_type": "code",
   "execution_count": 22,
   "metadata": {},
   "outputs": [
    {
     "name": "stderr",
     "output_type": "stream",
     "text": [
      "INFO:__main__:Loaded from cache\n",
      "INFO:__main__:Execution of execute_query took 0.003 s\n"
     ]
    }
   ],
   "source": [
    "rec_per_hour = execute_query('''\n",
    "SELECT date_trunc('hour', timestamp) as day_hour, COUNT(*) as total\n",
    "FROM record\n",
    "GROUP BY day_hour;''')\n",
    "rec_per_hour['timestamp'] = pd.to_datetime(rec_per_hour.day_hour)\n",
    "rec_per_hour['date_only'] = rec_per_hour.timestamp.dt.date\n",
    "rec_per_hour['hour'] = rec_per_hour.timestamp.dt.hour\n",
    "rec_per_hour.drop('day_hour', axis=1, inplace=True)\n",
    "rec_per_hour = pd.merge(rec_per_hour, rec_per_day, on='date_only', suffixes=['_hourly', '_daily'])\n",
    "rec_per_hour.drop(['date', 'timestamp'], axis=1, inplace=True)\n",
    "rec_per_hour.columns = ['total_hour', 'date', 'hour', 'total_day', 'n_devices', 'year', 'week']\n",
    "rec_per_hour['perc'] = rec_per_hour.total_hour / rec_per_hour.total_day"
   ]
  },
  {
   "cell_type": "code",
   "execution_count": 23,
   "metadata": {},
   "outputs": [],
   "source": [
    "# Drop days with records for less than 20 different hours (when logging system was offline)\n",
    "missing_hours = rec_per_hour.groupby('date')['total_hour'].count() < 20\n",
    "drop_idx = rec_per_hour.index[rec_per_hour.date.isin(missing_hours.iloc[missing_hours.nonzero()[0]].index)]\n",
    "rec_per_hour.drop(index=drop_idx, inplace=True)"
   ]
  },
  {
   "cell_type": "code",
   "execution_count": 24,
   "metadata": {},
   "outputs": [
    {
     "data": {
      "image/png": "[encoded data removed]",
      "text/plain": [
       "<Figure size 1152x576 with 2 Axes>"
      ]
     },
     "metadata": {},
     "output_type": "display_data"
    }
   ],
   "source": [
    "f, axes = plt.subplots(1, 2, figsize=(16, 8))\n",
    "sns.boxplot(x=rec_per_hour.hour, y=rec_per_hour.perc, ax=axes[0])\n",
    "sns.barplot(x=rec_per_hour.hour, y=rec_per_hour.perc, ax=axes[1])\n",
    "for a in axes:\n",
    "    a.set(xlabel='hour', ylabel='%')"
   ]
  },
  {
   "cell_type": "code",
   "execution_count": 25,
   "metadata": {},
   "outputs": [
    {
     "data": {
      "text/plain": [
       "0.7018736153755011"
      ]
     },
     "execution_count": 25,
     "metadata": {},
     "output_type": "execute_result"
    }
   ],
   "source": [
    "rec_per_hour.groupby('hour').mean().loc[10:15, 'perc'].sum()"
   ]
  },
  {
   "cell_type": "markdown",
   "metadata": {},
   "source": [
    "Hourly distribution of the records closely resembles normal distribution with the mean around 13 hours UTC; a majority of flights (70.2 %) occurs between 10 and 15 UTC, giving us an estimate for the deviation: ~2 hours."
   ]
  },
  {
   "cell_type": "code",
   "execution_count": 26,
   "metadata": {},
   "outputs": [
    {
     "data": {
      "text/plain": [
       "total_hour       4033451\n",
       "date          2018-04-21\n",
       "hour                  13\n",
       "total_day       23977693\n",
       "n_devices           7966\n",
       "year                2018\n",
       "week                  16\n",
       "perc            0.168217\n",
       "Name: 5168, dtype: object"
      ]
     },
     "execution_count": 26,
     "metadata": {},
     "output_type": "execute_result"
    }
   ],
   "source": [
    "rec_per_hour.loc[rec_per_hour.total_hour.idxmax()]"
   ]
  },
  {
   "cell_type": "markdown",
   "metadata": {},
   "source": [
    "Most messages in one hours were received on 2018-04-21 (which isn't totally coincidently, since this is also the most popular day) when 4.03M messages were processed; which is an averages to about 1120 messages/second."
   ]
  },
  {
   "cell_type": "markdown",
   "metadata": {},
   "source": [
    "# Weekday distribution"
   ]
  },
  {
   "cell_type": "code",
   "execution_count": 27,
   "metadata": {},
   "outputs": [
    {
     "name": "stderr",
     "output_type": "stream",
     "text": [
      "INFO:__main__:Loaded from cache\n",
      "INFO:__main__:Execution of execute_query took 0.002 s\n"
     ]
    }
   ],
   "source": [
    "rec_per_week = execute_query('''\n",
    "SELECT date_part('year', timestamp) as year, date_part('week', timestamp) as week, COUNT(*) as total\n",
    "FROM record\n",
    "GROUP BY year, week;''')"
   ]
  },
  {
   "cell_type": "code",
   "execution_count": 28,
   "metadata": {},
   "outputs": [],
   "source": [
    "rec_day_week = pd.merge(rec_per_day, rec_per_week, on=['year', 'week'], suffixes=['_daily', '_weekly'])\n",
    "rec_day_week['perc'] = rec_day_week.total_daily / rec_day_week.total_weekly\n",
    "rec_day_week['dow'] = rec_day_week.date.dt.weekday"
   ]
  },
  {
   "cell_type": "code",
   "execution_count": 29,
   "metadata": {},
   "outputs": [
    {
     "data": {
      "text/plain": [
       "<matplotlib.axes._subplots.AxesSubplot at 0x7fcd1a799f28>"
      ]
     },
     "execution_count": 29,
     "metadata": {},
     "output_type": "execute_result"
    },
    {
     "data": {
      "image/png": "[encoded data removed]",
      "text/plain": [
       "<Figure size 432x288 with 1 Axes>"
      ]
     },
     "metadata": {},
     "output_type": "display_data"
    }
   ],
   "source": [
    "sns.boxplot(x=rec_day_week.dow, y=rec_day_week.perc)"
   ]
  },
  {
   "cell_type": "markdown",
   "metadata": {},
   "source": [
    "Records per day are evenly distributed with the average of about 15%. Weekend is slightly more active than the other days; Saturday and Sunday account for about 40% of weekly traffic. "
   ]
  },
  {
   "cell_type": "markdown",
   "metadata": {},
   "source": [
    "# Heatmap"
   ]
  },
  {
   "cell_type": "code",
   "execution_count": 30,
   "metadata": {},
   "outputs": [],
   "source": [
    "def agr_to_geojson(data, bins_per_deg, color_fn=lambda x: x):\n",
    "    \"\"\"Converts the aggregated data to GeoJson\n",
    "    \n",
    "    :param data: pandas dataframe\n",
    "    :param int bins_per_deg: number of bins that one degree is devided into\n",
    "    :parma color_fn: function to be applied over the aggregated value\n",
    "    :return: geojson\n",
    "    \"\"\"\n",
    "    \n",
    "    box_delta = 1 / bins_per_deg\n",
    "    \n",
    "    df = data.copy()\n",
    "    df['lat_max'] = df.lat_min + box_delta\n",
    "    df['lon_max'] = df.lon_min + box_delta\n",
    "    \n",
    "    max_val = df.value.max()\n",
    "    df['color_ratio'] = df.value.apply(color_fn)\n",
    "    df['color_ratio'] /= df.color_ratio.max()\n",
    "    \n",
    "    features = []\n",
    "    colors = []\n",
    "    for i, r in df.iterrows():\n",
    "        features.append({\n",
    "            'type': 'Feature',\n",
    "            'geometry': {\n",
    "                'type': 'Polygon',\n",
    "                'coordinates': [[\n",
    "                    [r.lon_min, r.lat_max],\n",
    "                    [r.lon_max, r.lat_max],\n",
    "                    [r.lon_max, r.lat_min],\n",
    "                    [r.lon_min, r.lat_min],\n",
    "                    [r.lon_min, r.lat_max]\n",
    "                ]]\n",
    "            }\n",
    "        })\n",
    "        \n",
    "        colors.append(mpl.colors.to_hex(mpl.cm.inferno(r.color_ratio)))\n",
    "\n",
    "    return {'type': 'FeatureCollection', 'features':features}, colors"
   ]
  },
  {
   "cell_type": "code",
   "execution_count": null,
   "metadata": {},
   "outputs": [
    {
     "name": "stderr",
     "output_type": "stream",
     "text": [
      "INFO:__main__:Loaded from cache\n",
      "INFO:__main__:Execution of execute_query took 0.002 s\n"
     ]
    }
   ],
   "source": [
    "bins_per_deg = 8\n",
    "bin_delta = 1 / bins_per_deg\n",
    "\n",
    "pos_heatmap = execute_query('''\n",
    "SELECT \n",
    "    lat_min, lon_min, COUNT(*) as value\n",
    "FROM (\n",
    "    SELECT\n",
    "        round(latitude * %(bins)s) / %(bins)s as lat_min, round(longitude * %(bins)s) / %(bins)s as lon_min,\n",
    "        *\n",
    "    FROM record\n",
    ")\n",
    "WHERE \n",
    "    lat_min BETWEEN 36.0 AND 70.0 AND\n",
    "    lon_min BETWEEN -14.0 AND 42.0\n",
    "GROUP BY lat_min, lon_min;''', params={'bins': bins_per_deg})\n",
    "pos_heatmap = pd.DataFrame(pos_heatmap.groupby(['lat_min', 'lon_min'])['value'].sum())  # group -0 and 0\n",
    "pos_heatmap.reset_index(level=pos_heatmap.index.names, inplace=True)\n",
    "\n",
    "geojson, colors = agr_to_geojson(pos_heatmap, bins_per_deg, color_fn=np.log)\n",
    "fig = gmaps.Map()\n",
    "layer = gmaps.geojson_layer(geojson, fill_color=colors, fill_opacity=0.65, stroke_weight=0.0)\n",
    "fig.add_layer(layer)\n",
    "fig"
   ]
  },
  {
   "cell_type": "markdown",
   "metadata": {},
   "source": [
    "![.](heatmap.png)"
   ]
  },
  {
   "cell_type": "markdown",
   "metadata": {},
   "source": [
    "The heatmap above shows that the most popular are in the Alps, Central/Southern Germany, and in the South of the UK. There are almost no flights over some of the larger cities.\n",
    "\n",
    "Note: Generated GMaps objects do not persist over different jupyter sessions, therefore the image above is static."
   ]
  },
  {
   "cell_type": "markdown",
   "metadata": {},
   "source": [
    "# Total duration of the recorded data"
   ]
  },
  {
   "cell_type": "code",
   "execution_count": 74,
   "metadata": {},
   "outputs": [],
   "source": [
    "MISSING_DELTA = 2\n",
    "IDLE_DELTA = 3 * 60\n",
    "\n",
    "DELTAS = '''\n",
    "SELECT \n",
    "    \"timestamp\", flarm, \n",
    "    (timestamp - lag(timestamp) OVER (PARTITION BY flarm ORDER BY timestamp)) as dtime\n",
    "FROM record'''"
   ]
  },
  {
   "cell_type": "code",
   "execution_count": 75,
   "metadata": {},
   "outputs": [
    {
     "name": "stderr",
     "output_type": "stream",
     "text": [
      "INFO:__main__:Loaded from cache\n",
      "INFO:__main__:Execution of execute_query took 0.002 s\n",
      "INFO:__main__:Loaded from cache\n",
      "INFO:__main__:Execution of execute_query took 0.002 s\n"
     ]
    }
   ],
   "source": [
    "recorded = execute_query('''\n",
    "SELECT SUM(dtime) as total\n",
    "FROM deltas\n",
    "WHERE dtime < '%(missing_delta)s minutes';''', \n",
    "              params={'missing_delta': MISSING_DELTA}, with_={'deltas': DELTAS})\n",
    "\n",
    "missing = execute_query('''\n",
    "SELECT SUM(dtime) as total\n",
    "FROM deltas\n",
    "WHERE dtime BETWEEN '%(missing_delta)s minutes' AND '%(idle_delta)s minutes';''', \n",
    "              params={'missing_delta': MISSING_DELTA, 'idle_delta': IDLE_DELTA}, with_={'deltas': DELTAS})\n",
    "\n",
    "rec_time = pd.concat([recorded, missing])\n",
    "rec_time.index = ['recorded', 'missing']"
   ]
  },
  {
   "cell_type": "code",
   "execution_count": 92,
   "metadata": {},
   "outputs": [
    {
     "data": {
      "text/html": [
       "<div>\n",
       "<style scoped>\n",
       "    .dataframe tbody tr th:only-of-type {\n",
       "        vertical-align: middle;\n",
       "    }\n",
       "\n",
       "    .dataframe tbody tr th {\n",
       "        vertical-align: top;\n",
       "    }\n",
       "\n",
       "    .dataframe thead th {\n",
       "        text-align: right;\n",
       "    }\n",
       "</style>\n",
       "<table border=\"1\" class=\"dataframe\">\n",
       "  <thead>\n",
       "    <tr style=\"text-align: right;\">\n",
       "      <th></th>\n",
       "      <th>total</th>\n",
       "    </tr>\n",
       "  </thead>\n",
       "  <tbody>\n",
       "    <tr>\n",
       "      <th>recorded</th>\n",
       "      <td>32823 days 05:29:31.467485</td>\n",
       "    </tr>\n",
       "    <tr>\n",
       "      <th>missing</th>\n",
       "      <td>20123 days 13:49:08.929443</td>\n",
       "    </tr>\n",
       "  </tbody>\n",
       "</table>\n",
       "</div>"
      ],
      "text/plain": [
       "                              total\n",
       "recorded 32823 days 05:29:31.467485\n",
       "missing  20123 days 13:49:08.929443"
      ]
     },
     "execution_count": 92,
     "metadata": {},
     "output_type": "execute_result"
    }
   ],
   "source": [
    "rec_time"
   ]
  },
  {
   "cell_type": "code",
   "execution_count": 93,
   "metadata": {},
   "outputs": [
    {
     "data": {
      "text/plain": [
       "([<matplotlib.patches.Wedge at 0x7f6b0f917cf8>,\n",
       "  <matplotlib.patches.Wedge at 0x7f6b0f8ff400>],\n",
       " [Text(-0.404707,1.02285,'Recorded'), Text(0.404707,-1.02285,'Missing')],\n",
       " [Text(-0.220749,0.557916,'62.0 %'), Text(0.220749,-0.557916,'38.0 %')])"
      ]
     },
     "execution_count": 93,
     "metadata": {},
     "output_type": "execute_result"
    },
    {
     "data": {
      "image/png": "[encoded data removed]",
      "text/plain": [
       "<Figure size 360x360 with 1 Axes>"
      ]
     },
     "metadata": {},
     "output_type": "display_data"
    }
   ],
   "source": [
    "plt.figure(figsize=(5,5))\n",
    "plt.pie(rec_time.total, labels=['Recorded', 'Missing'], autopct='%.01f %%', )"
   ]
  },
  {
   "cell_type": "markdown",
   "metadata": {},
   "source": [
    "Duration of all the recorded flights is 32,823 days (approx. 89.9 years). There is also for 20,124 days worth (approx. 55.1 days) of missing segments in those flights."
   ]
  }
 ],
 "metadata": {
  "kernelspec": {
   "display_name": "Python 3",
   "language": "python",
   "name": "python3"
  },
  "language_info": {
   "codemirror_mode": {
    "name": "ipython",
    "version": 3
   },
   "file_extension": ".py",
   "mimetype": "text/x-python",
   "name": "python",
   "nbconvert_exporter": "python",
   "pygments_lexer": "ipython3",
   "version": "3.6.5"
  },
  "varInspector": {
   "cols": {
    "lenName": 16,
    "lenType": 16,
    "lenVar": 40
   },
   "kernels_config": {
    "python": {
     "delete_cmd_postfix": "",
     "delete_cmd_prefix": "del ",
     "library": "var_list.py",
     "varRefreshCmd": "print(var_dic_list())"
    },
    "r": {
     "delete_cmd_postfix": ") ",
     "delete_cmd_prefix": "rm(",
     "library": "var_list.r",
     "varRefreshCmd": "cat(var_dic_list()) "
    }
   },
   "types_to_exclude": [
    "module",
    "function",
    "builtin_function_or_method",
    "instance",
    "_Feature"
   ],
   "window_display": false
  }
 },
 "nbformat": 4,
 "nbformat_minor": 2
}
